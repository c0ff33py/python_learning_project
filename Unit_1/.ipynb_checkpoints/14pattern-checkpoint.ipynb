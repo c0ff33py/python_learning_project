{
 "cells": [
  {
   "cell_type": "code",
   "execution_count": 5,
   "id": "01d97c1f-3acb-4cc6-8824-1be073ce74e9",
   "metadata": {},
   "outputs": [
    {
     "name": "stdin",
     "output_type": "stream",
     "text": [
      "Please enter the number of rows:  6\n"
     ]
    },
    {
     "name": "stdout",
     "output_type": "stream",
     "text": [
      "*\n",
      "***\n",
      "*****\n",
      "*******\n",
      "*********\n",
      "***********\n"
     ]
    }
   ],
   "source": [
    "# string\n",
    "# enumerate\n",
    "# s = 'kyawkhine'\n",
    "# for index,data in enumerate(s):\n",
    "#     print(index, data)\n",
    "\n",
    "# Pattern\n",
    "# request row number from User\n",
    "rows = int(input(\"Please enter the number of rows: \"))\n",
    "\n",
    "for i in range(rows):\n",
    "    # Print leading spaces to center the asterisks\n",
    "    print(\" \" * (rows - 1 - i), end=\"\")\n",
    "\n",
    "    # Print the asterisks for the current row\n",
    "    print(\"*\" * (2 * i + 1), end=\"\")\n",
    "\n",
    "    #MOve to the next line after printing a row\n",
    "    print(\"\")"
   ]
  },
  {
   "cell_type": "code",
   "execution_count": null,
   "id": "62cf5660-f5e0-408f-aeef-a27dc882a9d7",
   "metadata": {},
   "outputs": [],
   "source": []
  }
 ],
 "metadata": {
  "kernelspec": {
   "display_name": "Python 3 (ipykernel)",
   "language": "python",
   "name": "python3"
  },
  "language_info": {
   "codemirror_mode": {
    "name": "ipython",
    "version": 3
   },
   "file_extension": ".py",
   "mimetype": "text/x-python",
   "name": "python",
   "nbconvert_exporter": "python",
   "pygments_lexer": "ipython3",
   "version": "3.10.12"
  }
 },
 "nbformat": 4,
 "nbformat_minor": 5
}
