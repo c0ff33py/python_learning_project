{
 "cells": [
  {
   "cell_type": "code",
   "execution_count": 9,
   "id": "01d97c1f-3acb-4cc6-8824-1be073ce74e9",
   "metadata": {},
   "outputs": [
    {
     "name": "stdout",
     "output_type": "stream",
     "text": [
      "My name is ကျော်ခိုင်, and 30 year old\n"
     ]
    }
   ],
   "source": [
    "name = \"ကျော်ခိုင်\"\n",
    "age = 30\n",
    "message = f\"My name is {name}, and {age} year old\"\n",
    "print(message)"
   ]
  },
  {
   "cell_type": "code",
   "execution_count": 10,
   "id": "62cf5660-f5e0-408f-aeef-a27dc882a9d7",
   "metadata": {},
   "outputs": [
    {
     "name": "stdout",
     "output_type": "stream",
     "text": [
      "The total cost is 21.0 MMK.\n"
     ]
    }
   ],
   "source": [
    "price = 10.5\n",
    "quantity = 2\n",
    "total = f\"The total cost is {price * quantity} MMK.\"\n",
    "print(total)"
   ]
  },
  {
   "cell_type": "code",
   "execution_count": 5,
   "id": "a1c8e918-501b-42e9-9c91-b3896b6e83e3",
   "metadata": {},
   "outputs": [
    {
     "name": "stdout",
     "output_type": "stream",
     "text": [
      "<class 'int'>\n",
      "1\n",
      "[2, 3, 4, 5, 6]\n"
     ]
    }
   ],
   "source": [
    "a, *b = (1,2,3,4,5,6)\n",
    "print(type(a))\n",
    "print(a)\n",
    "print(b)"
   ]
  },
  {
   "cell_type": "code",
   "execution_count": 4,
   "id": "9218d5c0-a4eb-4d40-81ce-6a7615d2fcb4",
   "metadata": {},
   "outputs": [
    {
     "name": "stdout",
     "output_type": "stream",
     "text": [
      "1\n",
      "2\n",
      "3\n",
      "4 5 6 7\n"
     ]
    }
   ],
   "source": [
    "def myFun(a,b,c,*args): #arbitary argument or end of positional argument\n",
    "    print(a)\n",
    "    print(b)\n",
    "    print(c)\n",
    "    print(*args)\n",
    "\n",
    "myFun(1,2,3,4,5,6,7)"
   ]
  },
  {
   "cell_type": "code",
   "execution_count": 7,
   "id": "5d77756c-2793-439b-8d61-36bb32d62798",
   "metadata": {},
   "outputs": [
    {
     "name": "stdout",
     "output_type": "stream",
     "text": [
      "3.0\n"
     ]
    }
   ],
   "source": [
    "def avg(*args):\n",
    "    length = len(args)\n",
    "    total = sum(args)\n",
    "    return total/length\n",
    "result = avg(1,2,3,4,5)\n",
    "print(result)"
   ]
  },
  {
   "cell_type": "code",
   "execution_count": 14,
   "id": "838ed2d9-223f-4780-97f9-4e9722ae1aa6",
   "metadata": {},
   "outputs": [
    {
     "name": "stdout",
     "output_type": "stream",
     "text": [
      "User information: \n",
      "that is postional argument: (1, 2, 3, 4, 5)\n",
      "name: kyaw khine\n",
      "age: 30\n",
      "city: Mandalay\n"
     ]
    }
   ],
   "source": [
    "def print_user_info(*args,**usr_data):\n",
    "    print('User information: ')\n",
    "    print(f'that is postional argument: {args}')\n",
    "    for key, value in usr_data.items():\n",
    "        print(f'{key}: {value}')\n",
    "print_user_info(1,2,3,4,5,name='kyaw khine', age =30, city='Mandalay')"
   ]
  },
  {
   "cell_type": "code",
   "execution_count": 26,
   "id": "2b2542b0-303c-4e12-b104-8d8428d5b0ae",
   "metadata": {},
   "outputs": [
    {
     "name": "stdout",
     "output_type": "stream",
     "text": [
      "1\n",
      "2\n",
      "(3, 4, 5, 6, 7, 8)\n",
      "9\n"
     ]
    }
   ],
   "source": [
    "def myFun(a,b,*c,d):\n",
    "    print(a)\n",
    "    print(b)\n",
    "    print(c)\n",
    "    print(d)\n",
    "myList = [1,2,3,4,5,6,7,8]\n",
    "myFun(*myList,d=9)"
   ]
  },
  {
   "cell_type": "code",
   "execution_count": 2,
   "id": "732a8b9a-acf1-453d-a681-af31e1942c81",
   "metadata": {},
   "outputs": [
    {
     "name": "stdout",
     "output_type": "stream",
     "text": [
      "1-2-3***\n",
      "1-2-3***\n",
      "1-2-3***\n",
      "1-2-3***\n",
      "1-2-3***\n",
      "4.6279200000753916e-05\n"
     ]
    }
   ],
   "source": [
    "import time\n",
    "\n",
    "def myFun(fn, *args,rep=1,**kwargs):\n",
    "    start = time.perf_counter()\n",
    "    for i in range(rep):\n",
    "        fn(*args, **kwargs)\n",
    "    end = time.perf_counter()\n",
    "    avg_time = (end-start)/rep\n",
    "    fn(avg_time)\n",
    "myFun(print,1,2,3,sep='-',end=\"***\\n\",rep=5)"
   ]
  },
  {
   "cell_type": "code",
   "execution_count": 2,
   "id": "d2953eff-d08a-4dd4-9eb1-e418bcfb85bf",
   "metadata": {},
   "outputs": [
    {
     "name": "stdout",
     "output_type": "stream",
     "text": [
      "4\n"
     ]
    }
   ],
   "source": [
    "x = 4\n",
    "lambda x: x*2\n",
    "print(x)"
   ]
  },
  {
   "cell_type": "code",
   "execution_count": 3,
   "id": "5fc6ffbc-b256-4a4f-957a-9341836a5565",
   "metadata": {},
   "outputs": [
    {
     "name": "stdout",
     "output_type": "stream",
     "text": [
      "<function <lambda> at 0x797040dc6a70>\n"
     ]
    }
   ],
   "source": [
    "x = 10\n",
    "print(lambda x: x*2)"
   ]
  },
  {
   "cell_type": "code",
   "execution_count": 5,
   "id": "cb1c625a-1a19-4772-9ddd-00437a0f4f8c",
   "metadata": {},
   "outputs": [
    {
     "name": "stdout",
     "output_type": "stream",
     "text": [
      "24\n"
     ]
    }
   ],
   "source": [
    "x = lambda y,z=10: y * z\n",
    "print(x(4,6))"
   ]
  },
  {
   "cell_type": "code",
   "execution_count": 2,
   "id": "b4fa93ea-7de9-4538-9a5f-f6c01339d10f",
   "metadata": {},
   "outputs": [
    {
     "name": "stdout",
     "output_type": "stream",
     "text": [
      "[2, 4, 6, 8, 10]\n"
     ]
    }
   ],
   "source": [
    "numbers = [1,2,3,4,5]\n",
    "\n",
    "multiply_nums = list(map(lambda num: num * 2, numbers))\n",
    "print(multiply_nums)"
   ]
  },
  {
   "cell_type": "code",
   "execution_count": 5,
   "id": "7f0a37ce-3cf6-4d73-8765-314469d60dc6",
   "metadata": {},
   "outputs": [
    {
     "name": "stdout",
     "output_type": "stream",
     "text": [
      "True\n",
      "True\n",
      "Hello\n",
      "None\n",
      "[1, 2, 3, 4, 6, 7, 5]\n",
      "None\n"
     ]
    },
    {
     "data": {
      "text/plain": [
       "True"
      ]
     },
     "execution_count": 5,
     "metadata": {},
     "output_type": "execute_result"
    }
   ],
   "source": [
    "print(callable(print))\n",
    "print(callable('xyz'.upper))\n",
    "\n",
    "\n",
    "test = print('Hello')\n",
    "print(test)\n",
    "\n",
    "al = [1,2,3,4,6,7]\n",
    "result = al.append(5)\n",
    "print(al)\n",
    "print(result)\n",
    "\n",
    "callable( )"
   ]
  },
  {
   "cell_type": "code",
   "execution_count": 4,
   "id": "0659c9e0-5e1c-4697-94db-b8aa197c37aa",
   "metadata": {},
   "outputs": [
    {
     "name": "stdout",
     "output_type": "stream",
     "text": [
      "['a', 'b', 'c', 'd', 'e']\n",
      "<list_iterator object at 0x79cfc87ee9b0>\n"
     ]
    }
   ],
   "source": [
    "list1 = ['a','b','c','d','e']\n",
    "iterator = iter(list1)\n",
    "\n",
    "print(list1)\n",
    "print(next(iterator))"
   ]
  },
  {
   "cell_type": "code",
   "execution_count": null,
   "id": "4b055e39-531f-4135-ac64-3480302b544c",
   "metadata": {},
   "outputs": [],
   "source": []
  }
 ],
 "metadata": {
  "kernelspec": {
   "display_name": "Python 3 (ipykernel)",
   "language": "python",
   "name": "python3"
  },
  "language_info": {
   "codemirror_mode": {
    "name": "ipython",
    "version": 3
   },
   "file_extension": ".py",
   "mimetype": "text/x-python",
   "name": "python",
   "nbconvert_exporter": "python",
   "pygments_lexer": "ipython3",
   "version": "3.10.12"
  }
 },
 "nbformat": 4,
 "nbformat_minor": 5
}
