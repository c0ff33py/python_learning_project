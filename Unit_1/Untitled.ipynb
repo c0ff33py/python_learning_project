{
 "cells": [
  {
   "cell_type": "code",
   "execution_count": 1,
   "id": "6f5bfa48-6545-48a3-9b16-9b6cefce01d0",
   "metadata": {},
   "outputs": [
    {
     "name": "stdout",
     "output_type": "stream",
     "text": [
      "0\n"
     ]
    }
   ],
   "source": [
    "c= int()\n",
    "print(c)"
   ]
  },
  {
   "cell_type": "code",
   "execution_count": 2,
   "id": "96d708a9-bf40-405f-a74c-b84f9cdc577f",
   "metadata": {},
   "outputs": [
    {
     "name": "stdout",
     "output_type": "stream",
     "text": [
      "<class 'int'>\n"
     ]
    }
   ],
   "source": [
    "print(type(c))"
   ]
  },
  {
   "cell_type": "code",
   "execution_count": 3,
   "id": "33dc4919-9162-4093-af42-0a15e6cd8e45",
   "metadata": {},
   "outputs": [
    {
     "name": "stdout",
     "output_type": "stream",
     "text": [
      "5\n"
     ]
    }
   ],
   "source": [
    "c = int('101',base=2)\n",
    "print(c)"
   ]
  },
  {
   "cell_type": "code",
   "execution_count": 1,
   "id": "8f0edbbd-7bf7-43b3-a8c9-8caaa0a3b3e7",
   "metadata": {},
   "outputs": [
    {
     "name": "stdout",
     "output_type": "stream",
     "text": [
      "Binary 1011 ဟာ Decimal 11 ပါ\n"
     ]
    }
   ],
   "source": [
    "binary_number = \"1011\"\n",
    "decimal_number = int(binary_number, 2)\n",
    "print(f\"Binary {binary_number} ဟာ Decimal {decimal_number} ပါ\")"
   ]
  },
  {
   "cell_type": "code",
   "execution_count": 2,
   "id": "078adb0a-83a4-45d3-ae46-e672240240e9",
   "metadata": {},
   "outputs": [
    {
     "name": "stdout",
     "output_type": "stream",
     "text": [
      "Binary 11001 ဟာ 25 ပါ\n"
     ]
    }
   ],
   "source": [
    "binary_number_2 = \"11001\"\n",
    "decimal_number_2 = int(binary_number_2, 2)\n",
    "print(f\"Binary {binary_number_2} ဟာ {decimal_number_2} ပါ\")"
   ]
  },
  {
   "cell_type": "code",
   "execution_count": 3,
   "id": "1b53f125-272f-4962-80f2-94e339a3580a",
   "metadata": {},
   "outputs": [
    {
     "name": "stdout",
     "output_type": "stream",
     "text": [
      "Binary 1011 ဟာ Decimal 11ပါ\n"
     ]
    }
   ],
   "source": [
    "def binary_to_decimal(binary_str):\n",
    "    decimal = 0\n",
    "    power = 0\n",
    "    # Binary string ကို နောက်ပြန်လှည့်ပြီး တစ်လုံးချင်းစီ စစ်ဆေးမည်\n",
    "    for digit in reversed(binary_str):\n",
    "        if digit == \"1\":\n",
    "            decimal += 2 ** power\n",
    "        power += 1\n",
    "\n",
    "    return decimal\n",
    "\n",
    "binary_number = \"1011\"\n",
    "decimal_number = binary_to_decimal(binary_number)\n",
    "print(f\"Binary {binary_number} ဟာ Decimal {decimal_number}ပါ\")"
   ]
  },
  {
   "cell_type": "code",
   "execution_count": null,
   "id": "77afb6cb-3141-4f99-8c0e-ee0eda6a507c",
   "metadata": {},
   "outputs": [],
   "source": []
  }
 ],
 "metadata": {
  "kernelspec": {
   "display_name": "Python 3 (ipykernel)",
   "language": "python",
   "name": "python3"
  },
  "language_info": {
   "codemirror_mode": {
    "name": "ipython",
    "version": 3
   },
   "file_extension": ".py",
   "mimetype": "text/x-python",
   "name": "python",
   "nbconvert_exporter": "python",
   "pygments_lexer": "ipython3",
   "version": "3.10.12"
  }
 },
 "nbformat": 4,
 "nbformat_minor": 5
}
